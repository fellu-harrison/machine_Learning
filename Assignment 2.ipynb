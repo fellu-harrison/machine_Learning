{
 "cells": [
  {
   "cell_type": "code",
   "execution_count": 1,
   "id": "34cea93d",
   "metadata": {},
   "outputs": [],
   "source": [
    "import pandas as pd\n",
    "\n",
    "import matplotlib.pyplot as plt\n",
    "\n",
    "from sklearn.cluster import KMeans\n",
    "\n",
    "from scipy.cluster.hierarchy import dendrogram, linkage"
   ]
  },
  {
   "cell_type": "code",
   "execution_count": 2,
   "id": "590ee8ab",
   "metadata": {},
   "outputs": [],
   "source": [
    "data=pd.read_csv(\"temp.csv\")"
   ]
  },
  {
   "cell_type": "code",
   "execution_count": 3,
   "id": "5d8a666f",
   "metadata": {},
   "outputs": [
    {
     "data": {
      "text/html": [
       "<div>\n",
       "<style scoped>\n",
       "    .dataframe tbody tr th:only-of-type {\n",
       "        vertical-align: middle;\n",
       "    }\n",
       "\n",
       "    .dataframe tbody tr th {\n",
       "        vertical-align: top;\n",
       "    }\n",
       "\n",
       "    .dataframe thead th {\n",
       "        text-align: right;\n",
       "    }\n",
       "</style>\n",
       "<table border=\"1\" class=\"dataframe\">\n",
       "  <thead>\n",
       "    <tr style=\"text-align: right;\">\n",
       "      <th></th>\n",
       "      <th>record_id</th>\n",
       "      <th>month</th>\n",
       "      <th>day</th>\n",
       "      <th>year</th>\n",
       "      <th>Avg1</th>\n",
       "      <th>Avg2</th>\n",
       "    </tr>\n",
       "  </thead>\n",
       "  <tbody>\n",
       "    <tr>\n",
       "      <th>0</th>\n",
       "      <td>474376</td>\n",
       "      <td>1</td>\n",
       "      <td>1</td>\n",
       "      <td>1853</td>\n",
       "      <td>25.0000</td>\n",
       "      <td>35.0000</td>\n",
       "    </tr>\n",
       "    <tr>\n",
       "      <th>1</th>\n",
       "      <td>474377</td>\n",
       "      <td>2</td>\n",
       "      <td>1</td>\n",
       "      <td>1853</td>\n",
       "      <td>65.0000</td>\n",
       "      <td>45.0000</td>\n",
       "    </tr>\n",
       "    <tr>\n",
       "      <th>2</th>\n",
       "      <td>474378</td>\n",
       "      <td>3</td>\n",
       "      <td>1</td>\n",
       "      <td>1853</td>\n",
       "      <td>55.0000</td>\n",
       "      <td>25.0000</td>\n",
       "    </tr>\n",
       "    <tr>\n",
       "      <th>3</th>\n",
       "      <td>474379</td>\n",
       "      <td>4</td>\n",
       "      <td>1</td>\n",
       "      <td>1853</td>\n",
       "      <td>34.0000</td>\n",
       "      <td>65.0000</td>\n",
       "    </tr>\n",
       "    <tr>\n",
       "      <th>4</th>\n",
       "      <td>474380</td>\n",
       "      <td>5</td>\n",
       "      <td>1</td>\n",
       "      <td>1853</td>\n",
       "      <td>24.0000</td>\n",
       "      <td>26.0000</td>\n",
       "    </tr>\n",
       "    <tr>\n",
       "      <th>...</th>\n",
       "      <td>...</td>\n",
       "      <td>...</td>\n",
       "      <td>...</td>\n",
       "      <td>...</td>\n",
       "      <td>...</td>\n",
       "      <td>...</td>\n",
       "    </tr>\n",
       "    <tr>\n",
       "      <th>48465</th>\n",
       "      <td>8258726</td>\n",
       "      <td>5</td>\n",
       "      <td>1</td>\n",
       "      <td>2013</td>\n",
       "      <td>55.0544</td>\n",
       "      <td>32.4896</td>\n",
       "    </tr>\n",
       "    <tr>\n",
       "      <th>48466</th>\n",
       "      <td>8258727</td>\n",
       "      <td>6</td>\n",
       "      <td>1</td>\n",
       "      <td>2013</td>\n",
       "      <td>61.1672</td>\n",
       "      <td>32.3330</td>\n",
       "    </tr>\n",
       "    <tr>\n",
       "      <th>48467</th>\n",
       "      <td>8258728</td>\n",
       "      <td>7</td>\n",
       "      <td>1</td>\n",
       "      <td>2013</td>\n",
       "      <td>66.7706</td>\n",
       "      <td>32.5706</td>\n",
       "    </tr>\n",
       "    <tr>\n",
       "      <th>48468</th>\n",
       "      <td>8258729</td>\n",
       "      <td>8</td>\n",
       "      <td>1</td>\n",
       "      <td>2013</td>\n",
       "      <td>64.5656</td>\n",
       "      <td>32.4842</td>\n",
       "    </tr>\n",
       "    <tr>\n",
       "      <th>48469</th>\n",
       "      <td>8258730</td>\n",
       "      <td>9</td>\n",
       "      <td>1</td>\n",
       "      <td>2013</td>\n",
       "      <td>25.0000</td>\n",
       "      <td>25.0000</td>\n",
       "    </tr>\n",
       "  </tbody>\n",
       "</table>\n",
       "<p>48470 rows × 6 columns</p>\n",
       "</div>"
      ],
      "text/plain": [
       "       record_id  month  day  year     Avg1     Avg2\n",
       "0         474376      1    1  1853  25.0000  35.0000\n",
       "1         474377      2    1  1853  65.0000  45.0000\n",
       "2         474378      3    1  1853  55.0000  25.0000\n",
       "3         474379      4    1  1853  34.0000  65.0000\n",
       "4         474380      5    1  1853  24.0000  26.0000\n",
       "...          ...    ...  ...   ...      ...      ...\n",
       "48465    8258726      5    1  2013  55.0544  32.4896\n",
       "48466    8258727      6    1  2013  61.1672  32.3330\n",
       "48467    8258728      7    1  2013  66.7706  32.5706\n",
       "48468    8258729      8    1  2013  64.5656  32.4842\n",
       "48469    8258730      9    1  2013  25.0000  25.0000\n",
       "\n",
       "[48470 rows x 6 columns]"
      ]
     },
     "execution_count": 3,
     "metadata": {},
     "output_type": "execute_result"
    }
   ],
   "source": [
    "data"
   ]
  },
  {
   "cell_type": "code",
   "execution_count": 4,
   "id": "b4f50f96",
   "metadata": {},
   "outputs": [
    {
     "data": {
      "text/plain": [
       "pandas.core.frame.DataFrame"
      ]
     },
     "execution_count": 4,
     "metadata": {},
     "output_type": "execute_result"
    }
   ],
   "source": [
    "type(data)"
   ]
  },
  {
   "cell_type": "code",
   "execution_count": 5,
   "id": "2b791f74",
   "metadata": {},
   "outputs": [
    {
     "data": {
      "image/png": "[encoded data removed]",
      "text/plain": [
       "<Figure size 640x480 with 1 Axes>"
      ]
     },
     "metadata": {},
     "output_type": "display_data"
    }
   ],
   "source": [
    "plt.scatter(data.Avg1,data.Avg2)\n",
    "plt.show()"
   ]
  },
  {
   "cell_type": "code",
   "execution_count": 6,
   "id": "c4e7a809",
   "metadata": {},
   "outputs": [],
   "source": [
    "a=KMeans(n_clusters=10)"
   ]
  },
  {
   "cell_type": "code",
   "execution_count": 10,
   "id": "9e0a6c04",
   "metadata": {},
   "outputs": [
    {
     "data": {
      "text/plain": [
       "KMeans(n_clusters=10)"
      ]
     },
     "execution_count": 10,
     "metadata": {},
     "output_type": "execute_result"
    }
   ],
   "source": [
    "a.fit(data)"
   ]
  },
  {
   "cell_type": "code",
   "execution_count": 11,
   "id": "02b405b2",
   "metadata": {},
   "outputs": [
    {
     "data": {
      "text/plain": [
       "[]"
      ]
     },
     "execution_count": 11,
     "metadata": {},
     "output_type": "execute_result"
    },
    {
     "data": {
      "image/png": "[encoded data removed]",
      "text/plain": [
       "<Figure size 640x480 with 1 Axes>"
      ]
     },
     "metadata": {},
     "output_type": "display_data"
    }
   ],
   "source": [
    "plt.scatter(data.Avg1,data.Avg2)\n",
    "plt.plot()"
   ]
  },
  {
   "cell_type": "code",
   "execution_count": 14,
   "id": "a02699ec",
   "metadata": {},
   "outputs": [
    {
     "data": {
      "text/plain": [
       "[]"
      ]
     },
     "execution_count": 14,
     "metadata": {},
     "output_type": "execute_result"
    },
    {
     "data": {
      "image/png": "[encoded data removed]",
      "text/plain": [
       "<Figure size 640x480 with 1 Axes>"
      ]
     },
     "metadata": {},
     "output_type": "display_data"
    }
   ],
   "source": [
    "plt.scatter(data.Avg1,data.Avg2,c = a.labels_)\n",
    "plt.plot()"
   ]
  },
  {
   "cell_type": "code",
   "execution_count": 15,
   "id": "1b94754c",
   "metadata": {},
   "outputs": [],
   "source": [
    "# Another method"
   ]
  },
  {
   "cell_type": "code",
   "execution_count": 16,
   "id": "8e2b6003",
   "metadata": {},
   "outputs": [],
   "source": [
    "data= [[55,78,56,6,56],[8,32,67,6,32],[65,76,45,4,32],[43,12,4,65,65],[6,22,6,56,43]]"
   ]
  },
  {
   "cell_type": "code",
   "execution_count": 17,
   "id": "d10b7b36",
   "metadata": {},
   "outputs": [],
   "source": [
    "points = [\"a\",\"b\",\"c\",\"d\",\"e\"]"
   ]
  },
  {
   "cell_type": "code",
   "execution_count": 18,
   "id": "c13f513b",
   "metadata": {},
   "outputs": [
    {
     "data": {
      "text/html": [
       "<div>\n",
       "<style scoped>\n",
       "    .dataframe tbody tr th:only-of-type {\n",
       "        vertical-align: middle;\n",
       "    }\n",
       "\n",
       "    .dataframe tbody tr th {\n",
       "        vertical-align: top;\n",
       "    }\n",
       "\n",
       "    .dataframe thead th {\n",
       "        text-align: right;\n",
       "    }\n",
       "</style>\n",
       "<table border=\"1\" class=\"dataframe\">\n",
       "  <thead>\n",
       "    <tr style=\"text-align: right;\">\n",
       "      <th></th>\n",
       "      <th>a</th>\n",
       "      <th>b</th>\n",
       "      <th>c</th>\n",
       "      <th>d</th>\n",
       "      <th>e</th>\n",
       "    </tr>\n",
       "  </thead>\n",
       "  <tbody>\n",
       "    <tr>\n",
       "      <th>a</th>\n",
       "      <td>55</td>\n",
       "      <td>78</td>\n",
       "      <td>56</td>\n",
       "      <td>6</td>\n",
       "      <td>56</td>\n",
       "    </tr>\n",
       "    <tr>\n",
       "      <th>b</th>\n",
       "      <td>8</td>\n",
       "      <td>32</td>\n",
       "      <td>67</td>\n",
       "      <td>6</td>\n",
       "      <td>32</td>\n",
       "    </tr>\n",
       "    <tr>\n",
       "      <th>c</th>\n",
       "      <td>65</td>\n",
       "      <td>76</td>\n",
       "      <td>45</td>\n",
       "      <td>4</td>\n",
       "      <td>32</td>\n",
       "    </tr>\n",
       "    <tr>\n",
       "      <th>d</th>\n",
       "      <td>43</td>\n",
       "      <td>12</td>\n",
       "      <td>4</td>\n",
       "      <td>65</td>\n",
       "      <td>65</td>\n",
       "    </tr>\n",
       "    <tr>\n",
       "      <th>e</th>\n",
       "      <td>6</td>\n",
       "      <td>22</td>\n",
       "      <td>6</td>\n",
       "      <td>56</td>\n",
       "      <td>43</td>\n",
       "    </tr>\n",
       "  </tbody>\n",
       "</table>\n",
       "</div>"
      ],
      "text/plain": [
       "    a   b   c   d   e\n",
       "a  55  78  56   6  56\n",
       "b   8  32  67   6  32\n",
       "c  65  76  45   4  32\n",
       "d  43  12   4  65  65\n",
       "e   6  22   6  56  43"
      ]
     },
     "execution_count": 18,
     "metadata": {},
     "output_type": "execute_result"
    }
   ],
   "source": [
    "df = pd.DataFrame(data,columns=[\"a\",\"b\",\"c\",\"d\",\"e\"], index=points)\n",
    "df"
   ]
  },
  {
   "cell_type": "code",
   "execution_count": 19,
   "id": "4c2f68ed",
   "metadata": {},
   "outputs": [
    {
     "data": {
      "image/png": "[encoded data removed]",
      "text/plain": [
       "<Figure size 640x480 with 1 Axes>"
      ]
     },
     "metadata": {},
     "output_type": "display_data"
    }
   ],
   "source": [
    "linkage_data = linkage(df, method='ward', metric='euclidean')\n",
    "dendrogram(linkage_data)\n",
    "\n",
    "plt.show()"
   ]
  },
  {
   "cell_type": "code",
   "execution_count": 20,
   "id": "41b099ce",
   "metadata": {},
   "outputs": [
    {
     "data": {
      "image/png": "[encoded data removed]",
      "text/plain": [
       "<Figure size 640x480 with 1 Axes>"
      ]
     },
     "metadata": {},
     "output_type": "display_data"
    }
   ],
   "source": [
    "linkage_data = linkage(df, method='complete', metric='euclidean')\n",
    "dendrogram(linkage_data)\n",
    "\n",
    "plt.show()"
   ]
  },
  {
   "cell_type": "code",
   "execution_count": 21,
   "id": "a8197c47",
   "metadata": {},
   "outputs": [
    {
     "data": {
      "image/png": "[encoded data removed]",
      "text/plain": [
       "<Figure size 640x480 with 1 Axes>"
      ]
     },
     "metadata": {},
     "output_type": "display_data"
    }
   ],
   "source": [
    "linkage_data = linkage(df, method='single', metric='euclidean')\n",
    "dendrogram(linkage_data)\n",
    "\n",
    "plt.show()"
   ]
  },
  {
   "cell_type": "code",
   "execution_count": 22,
   "id": "98561413",
   "metadata": {},
   "outputs": [
    {
     "data": {
      "image/png": "[encoded data removed]",
      "text/plain": [
       "<Figure size 640x480 with 1 Axes>"
      ]
     },
     "metadata": {},
     "output_type": "display_data"
    }
   ],
   "source": [
    "linkage_data = linkage(df, method='average', metric='euclidean')\n",
    "dendrogram(linkage_data)\n",
    "\n",
    "plt.show()"
   ]
  },
  {
   "cell_type": "code",
   "execution_count": 23,
   "id": "f3f03868",
   "metadata": {},
   "outputs": [],
   "source": [
    "# Another method"
   ]
  },
  {
   "cell_type": "code",
   "execution_count": 24,
   "id": "d3f48d6a",
   "metadata": {},
   "outputs": [],
   "source": [
    "import numpy as np\n",
    "import matplotlib.pyplot as plt\n",
    "%matplotlib inline"
   ]
  },
  {
   "cell_type": "code",
   "execution_count": 25,
   "id": "19da163f",
   "metadata": {},
   "outputs": [],
   "source": [
    "df1 = pd.read_csv(\"temp.csv\")"
   ]
  },
  {
   "cell_type": "code",
   "execution_count": 26,
   "id": "2d271e7e",
   "metadata": {},
   "outputs": [
    {
     "data": {
      "text/html": [
       "<div>\n",
       "<style scoped>\n",
       "    .dataframe tbody tr th:only-of-type {\n",
       "        vertical-align: middle;\n",
       "    }\n",
       "\n",
       "    .dataframe tbody tr th {\n",
       "        vertical-align: top;\n",
       "    }\n",
       "\n",
       "    .dataframe thead th {\n",
       "        text-align: right;\n",
       "    }\n",
       "</style>\n",
       "<table border=\"1\" class=\"dataframe\">\n",
       "  <thead>\n",
       "    <tr style=\"text-align: right;\">\n",
       "      <th></th>\n",
       "      <th>record_id</th>\n",
       "      <th>month</th>\n",
       "      <th>day</th>\n",
       "      <th>year</th>\n",
       "      <th>Avg1</th>\n",
       "      <th>Avg2</th>\n",
       "    </tr>\n",
       "  </thead>\n",
       "  <tbody>\n",
       "    <tr>\n",
       "      <th>0</th>\n",
       "      <td>474376</td>\n",
       "      <td>1</td>\n",
       "      <td>1</td>\n",
       "      <td>1853</td>\n",
       "      <td>25.0000</td>\n",
       "      <td>35.0000</td>\n",
       "    </tr>\n",
       "    <tr>\n",
       "      <th>1</th>\n",
       "      <td>474377</td>\n",
       "      <td>2</td>\n",
       "      <td>1</td>\n",
       "      <td>1853</td>\n",
       "      <td>65.0000</td>\n",
       "      <td>45.0000</td>\n",
       "    </tr>\n",
       "    <tr>\n",
       "      <th>2</th>\n",
       "      <td>474378</td>\n",
       "      <td>3</td>\n",
       "      <td>1</td>\n",
       "      <td>1853</td>\n",
       "      <td>55.0000</td>\n",
       "      <td>25.0000</td>\n",
       "    </tr>\n",
       "    <tr>\n",
       "      <th>3</th>\n",
       "      <td>474379</td>\n",
       "      <td>4</td>\n",
       "      <td>1</td>\n",
       "      <td>1853</td>\n",
       "      <td>34.0000</td>\n",
       "      <td>65.0000</td>\n",
       "    </tr>\n",
       "    <tr>\n",
       "      <th>4</th>\n",
       "      <td>474380</td>\n",
       "      <td>5</td>\n",
       "      <td>1</td>\n",
       "      <td>1853</td>\n",
       "      <td>24.0000</td>\n",
       "      <td>26.0000</td>\n",
       "    </tr>\n",
       "    <tr>\n",
       "      <th>...</th>\n",
       "      <td>...</td>\n",
       "      <td>...</td>\n",
       "      <td>...</td>\n",
       "      <td>...</td>\n",
       "      <td>...</td>\n",
       "      <td>...</td>\n",
       "    </tr>\n",
       "    <tr>\n",
       "      <th>48465</th>\n",
       "      <td>8258726</td>\n",
       "      <td>5</td>\n",
       "      <td>1</td>\n",
       "      <td>2013</td>\n",
       "      <td>55.0544</td>\n",
       "      <td>32.4896</td>\n",
       "    </tr>\n",
       "    <tr>\n",
       "      <th>48466</th>\n",
       "      <td>8258727</td>\n",
       "      <td>6</td>\n",
       "      <td>1</td>\n",
       "      <td>2013</td>\n",
       "      <td>61.1672</td>\n",
       "      <td>32.3330</td>\n",
       "    </tr>\n",
       "    <tr>\n",
       "      <th>48467</th>\n",
       "      <td>8258728</td>\n",
       "      <td>7</td>\n",
       "      <td>1</td>\n",
       "      <td>2013</td>\n",
       "      <td>66.7706</td>\n",
       "      <td>32.5706</td>\n",
       "    </tr>\n",
       "    <tr>\n",
       "      <th>48468</th>\n",
       "      <td>8258729</td>\n",
       "      <td>8</td>\n",
       "      <td>1</td>\n",
       "      <td>2013</td>\n",
       "      <td>64.5656</td>\n",
       "      <td>32.4842</td>\n",
       "    </tr>\n",
       "    <tr>\n",
       "      <th>48469</th>\n",
       "      <td>8258730</td>\n",
       "      <td>9</td>\n",
       "      <td>1</td>\n",
       "      <td>2013</td>\n",
       "      <td>25.0000</td>\n",
       "      <td>25.0000</td>\n",
       "    </tr>\n",
       "  </tbody>\n",
       "</table>\n",
       "<p>48470 rows × 6 columns</p>\n",
       "</div>"
      ],
      "text/plain": [
       "       record_id  month  day  year     Avg1     Avg2\n",
       "0         474376      1    1  1853  25.0000  35.0000\n",
       "1         474377      2    1  1853  65.0000  45.0000\n",
       "2         474378      3    1  1853  55.0000  25.0000\n",
       "3         474379      4    1  1853  34.0000  65.0000\n",
       "4         474380      5    1  1853  24.0000  26.0000\n",
       "...          ...    ...  ...   ...      ...      ...\n",
       "48465    8258726      5    1  2013  55.0544  32.4896\n",
       "48466    8258727      6    1  2013  61.1672  32.3330\n",
       "48467    8258728      7    1  2013  66.7706  32.5706\n",
       "48468    8258729      8    1  2013  64.5656  32.4842\n",
       "48469    8258730      9    1  2013  25.0000  25.0000\n",
       "\n",
       "[48470 rows x 6 columns]"
      ]
     },
     "execution_count": 26,
     "metadata": {},
     "output_type": "execute_result"
    }
   ],
   "source": [
    "df1"
   ]
  },
  {
   "cell_type": "code",
   "execution_count": 27,
   "id": "182bcb48",
   "metadata": {},
   "outputs": [],
   "source": [
    "del df1[\"month\"]"
   ]
  },
  {
   "cell_type": "code",
   "execution_count": 28,
   "id": "f9a526ea",
   "metadata": {},
   "outputs": [
    {
     "data": {
      "text/html": [
       "<div>\n",
       "<style scoped>\n",
       "    .dataframe tbody tr th:only-of-type {\n",
       "        vertical-align: middle;\n",
       "    }\n",
       "\n",
       "    .dataframe tbody tr th {\n",
       "        vertical-align: top;\n",
       "    }\n",
       "\n",
       "    .dataframe thead th {\n",
       "        text-align: right;\n",
       "    }\n",
       "</style>\n",
       "<table border=\"1\" class=\"dataframe\">\n",
       "  <thead>\n",
       "    <tr style=\"text-align: right;\">\n",
       "      <th></th>\n",
       "      <th>record_id</th>\n",
       "      <th>day</th>\n",
       "      <th>year</th>\n",
       "      <th>Avg1</th>\n",
       "      <th>Avg2</th>\n",
       "    </tr>\n",
       "  </thead>\n",
       "  <tbody>\n",
       "    <tr>\n",
       "      <th>0</th>\n",
       "      <td>474376</td>\n",
       "      <td>1</td>\n",
       "      <td>1853</td>\n",
       "      <td>25.0000</td>\n",
       "      <td>35.0000</td>\n",
       "    </tr>\n",
       "    <tr>\n",
       "      <th>1</th>\n",
       "      <td>474377</td>\n",
       "      <td>1</td>\n",
       "      <td>1853</td>\n",
       "      <td>65.0000</td>\n",
       "      <td>45.0000</td>\n",
       "    </tr>\n",
       "    <tr>\n",
       "      <th>2</th>\n",
       "      <td>474378</td>\n",
       "      <td>1</td>\n",
       "      <td>1853</td>\n",
       "      <td>55.0000</td>\n",
       "      <td>25.0000</td>\n",
       "    </tr>\n",
       "    <tr>\n",
       "      <th>3</th>\n",
       "      <td>474379</td>\n",
       "      <td>1</td>\n",
       "      <td>1853</td>\n",
       "      <td>34.0000</td>\n",
       "      <td>65.0000</td>\n",
       "    </tr>\n",
       "    <tr>\n",
       "      <th>4</th>\n",
       "      <td>474380</td>\n",
       "      <td>1</td>\n",
       "      <td>1853</td>\n",
       "      <td>24.0000</td>\n",
       "      <td>26.0000</td>\n",
       "    </tr>\n",
       "    <tr>\n",
       "      <th>...</th>\n",
       "      <td>...</td>\n",
       "      <td>...</td>\n",
       "      <td>...</td>\n",
       "      <td>...</td>\n",
       "      <td>...</td>\n",
       "    </tr>\n",
       "    <tr>\n",
       "      <th>48465</th>\n",
       "      <td>8258726</td>\n",
       "      <td>1</td>\n",
       "      <td>2013</td>\n",
       "      <td>55.0544</td>\n",
       "      <td>32.4896</td>\n",
       "    </tr>\n",
       "    <tr>\n",
       "      <th>48466</th>\n",
       "      <td>8258727</td>\n",
       "      <td>1</td>\n",
       "      <td>2013</td>\n",
       "      <td>61.1672</td>\n",
       "      <td>32.3330</td>\n",
       "    </tr>\n",
       "    <tr>\n",
       "      <th>48467</th>\n",
       "      <td>8258728</td>\n",
       "      <td>1</td>\n",
       "      <td>2013</td>\n",
       "      <td>66.7706</td>\n",
       "      <td>32.5706</td>\n",
       "    </tr>\n",
       "    <tr>\n",
       "      <th>48468</th>\n",
       "      <td>8258729</td>\n",
       "      <td>1</td>\n",
       "      <td>2013</td>\n",
       "      <td>64.5656</td>\n",
       "      <td>32.4842</td>\n",
       "    </tr>\n",
       "    <tr>\n",
       "      <th>48469</th>\n",
       "      <td>8258730</td>\n",
       "      <td>1</td>\n",
       "      <td>2013</td>\n",
       "      <td>25.0000</td>\n",
       "      <td>25.0000</td>\n",
       "    </tr>\n",
       "  </tbody>\n",
       "</table>\n",
       "<p>48470 rows × 5 columns</p>\n",
       "</div>"
      ],
      "text/plain": [
       "       record_id  day  year     Avg1     Avg2\n",
       "0         474376    1  1853  25.0000  35.0000\n",
       "1         474377    1  1853  65.0000  45.0000\n",
       "2         474378    1  1853  55.0000  25.0000\n",
       "3         474379    1  1853  34.0000  65.0000\n",
       "4         474380    1  1853  24.0000  26.0000\n",
       "...          ...  ...   ...      ...      ...\n",
       "48465    8258726    1  2013  55.0544  32.4896\n",
       "48466    8258727    1  2013  61.1672  32.3330\n",
       "48467    8258728    1  2013  66.7706  32.5706\n",
       "48468    8258729    1  2013  64.5656  32.4842\n",
       "48469    8258730    1  2013  25.0000  25.0000\n",
       "\n",
       "[48470 rows x 5 columns]"
      ]
     },
     "execution_count": 28,
     "metadata": {},
     "output_type": "execute_result"
    }
   ],
   "source": [
    "df1"
   ]
  },
  {
   "cell_type": "code",
   "execution_count": 29,
   "id": "c775c27b",
   "metadata": {},
   "outputs": [
    {
     "data": {
      "text/html": [
       "<div>\n",
       "<style scoped>\n",
       "    .dataframe tbody tr th:only-of-type {\n",
       "        vertical-align: middle;\n",
       "    }\n",
       "\n",
       "    .dataframe tbody tr th {\n",
       "        vertical-align: top;\n",
       "    }\n",
       "\n",
       "    .dataframe thead th {\n",
       "        text-align: right;\n",
       "    }\n",
       "</style>\n",
       "<table border=\"1\" class=\"dataframe\">\n",
       "  <thead>\n",
       "    <tr style=\"text-align: right;\">\n",
       "      <th></th>\n",
       "      <th>record_id</th>\n",
       "      <th>day</th>\n",
       "      <th>year</th>\n",
       "      <th>Avg1</th>\n",
       "      <th>Avg2</th>\n",
       "    </tr>\n",
       "  </thead>\n",
       "  <tbody>\n",
       "    <tr>\n",
       "      <th>0</th>\n",
       "      <td>0.999992</td>\n",
       "      <td>0.000002</td>\n",
       "      <td>0.003906</td>\n",
       "      <td>0.000053</td>\n",
       "      <td>0.000074</td>\n",
       "    </tr>\n",
       "    <tr>\n",
       "      <th>1</th>\n",
       "      <td>0.999992</td>\n",
       "      <td>0.000002</td>\n",
       "      <td>0.003906</td>\n",
       "      <td>0.000137</td>\n",
       "      <td>0.000095</td>\n",
       "    </tr>\n",
       "    <tr>\n",
       "      <th>2</th>\n",
       "      <td>0.999992</td>\n",
       "      <td>0.000002</td>\n",
       "      <td>0.003906</td>\n",
       "      <td>0.000116</td>\n",
       "      <td>0.000053</td>\n",
       "    </tr>\n",
       "    <tr>\n",
       "      <th>3</th>\n",
       "      <td>0.999992</td>\n",
       "      <td>0.000002</td>\n",
       "      <td>0.003906</td>\n",
       "      <td>0.000072</td>\n",
       "      <td>0.000137</td>\n",
       "    </tr>\n",
       "    <tr>\n",
       "      <th>4</th>\n",
       "      <td>0.999992</td>\n",
       "      <td>0.000002</td>\n",
       "      <td>0.003906</td>\n",
       "      <td>0.000051</td>\n",
       "      <td>0.000055</td>\n",
       "    </tr>\n",
       "  </tbody>\n",
       "</table>\n",
       "</div>"
      ],
      "text/plain": [
       "   record_id       day      year      Avg1      Avg2\n",
       "0   0.999992  0.000002  0.003906  0.000053  0.000074\n",
       "1   0.999992  0.000002  0.003906  0.000137  0.000095\n",
       "2   0.999992  0.000002  0.003906  0.000116  0.000053\n",
       "3   0.999992  0.000002  0.003906  0.000072  0.000137\n",
       "4   0.999992  0.000002  0.003906  0.000051  0.000055"
      ]
     },
     "execution_count": 29,
     "metadata": {},
     "output_type": "execute_result"
    }
   ],
   "source": [
    "from sklearn.preprocessing import normalize\n",
    "data_scaled = normalize(df1)\n",
    "data_scaled = pd.DataFrame(data_scaled, columns=df1.columns)\n",
    "data_scaled.head()"
   ]
  },
  {
   "cell_type": "code",
   "execution_count": 30,
   "id": "8ace53ca",
   "metadata": {},
   "outputs": [
    {
     "data": {
      "text/html": [
       "<div>\n",
       "<style scoped>\n",
       "    .dataframe tbody tr th:only-of-type {\n",
       "        vertical-align: middle;\n",
       "    }\n",
       "\n",
       "    .dataframe tbody tr th {\n",
       "        vertical-align: top;\n",
       "    }\n",
       "\n",
       "    .dataframe thead th {\n",
       "        text-align: right;\n",
       "    }\n",
       "</style>\n",
       "<table border=\"1\" class=\"dataframe\">\n",
       "  <thead>\n",
       "    <tr style=\"text-align: right;\">\n",
       "      <th></th>\n",
       "      <th>record_id</th>\n",
       "      <th>day</th>\n",
       "      <th>year</th>\n",
       "      <th>Avg1</th>\n",
       "      <th>Avg2</th>\n",
       "    </tr>\n",
       "  </thead>\n",
       "  <tbody>\n",
       "    <tr>\n",
       "      <th>0</th>\n",
       "      <td>474376</td>\n",
       "      <td>1</td>\n",
       "      <td>1853</td>\n",
       "      <td>25.0000</td>\n",
       "      <td>35.0000</td>\n",
       "    </tr>\n",
       "    <tr>\n",
       "      <th>1</th>\n",
       "      <td>474377</td>\n",
       "      <td>1</td>\n",
       "      <td>1853</td>\n",
       "      <td>65.0000</td>\n",
       "      <td>45.0000</td>\n",
       "    </tr>\n",
       "    <tr>\n",
       "      <th>2</th>\n",
       "      <td>474378</td>\n",
       "      <td>1</td>\n",
       "      <td>1853</td>\n",
       "      <td>55.0000</td>\n",
       "      <td>25.0000</td>\n",
       "    </tr>\n",
       "    <tr>\n",
       "      <th>3</th>\n",
       "      <td>474379</td>\n",
       "      <td>1</td>\n",
       "      <td>1853</td>\n",
       "      <td>34.0000</td>\n",
       "      <td>65.0000</td>\n",
       "    </tr>\n",
       "    <tr>\n",
       "      <th>4</th>\n",
       "      <td>474380</td>\n",
       "      <td>1</td>\n",
       "      <td>1853</td>\n",
       "      <td>24.0000</td>\n",
       "      <td>26.0000</td>\n",
       "    </tr>\n",
       "    <tr>\n",
       "      <th>...</th>\n",
       "      <td>...</td>\n",
       "      <td>...</td>\n",
       "      <td>...</td>\n",
       "      <td>...</td>\n",
       "      <td>...</td>\n",
       "    </tr>\n",
       "    <tr>\n",
       "      <th>48465</th>\n",
       "      <td>8258726</td>\n",
       "      <td>1</td>\n",
       "      <td>2013</td>\n",
       "      <td>55.0544</td>\n",
       "      <td>32.4896</td>\n",
       "    </tr>\n",
       "    <tr>\n",
       "      <th>48466</th>\n",
       "      <td>8258727</td>\n",
       "      <td>1</td>\n",
       "      <td>2013</td>\n",
       "      <td>61.1672</td>\n",
       "      <td>32.3330</td>\n",
       "    </tr>\n",
       "    <tr>\n",
       "      <th>48467</th>\n",
       "      <td>8258728</td>\n",
       "      <td>1</td>\n",
       "      <td>2013</td>\n",
       "      <td>66.7706</td>\n",
       "      <td>32.5706</td>\n",
       "    </tr>\n",
       "    <tr>\n",
       "      <th>48468</th>\n",
       "      <td>8258729</td>\n",
       "      <td>1</td>\n",
       "      <td>2013</td>\n",
       "      <td>64.5656</td>\n",
       "      <td>32.4842</td>\n",
       "    </tr>\n",
       "    <tr>\n",
       "      <th>48469</th>\n",
       "      <td>8258730</td>\n",
       "      <td>1</td>\n",
       "      <td>2013</td>\n",
       "      <td>25.0000</td>\n",
       "      <td>25.0000</td>\n",
       "    </tr>\n",
       "  </tbody>\n",
       "</table>\n",
       "<p>48470 rows × 5 columns</p>\n",
       "</div>"
      ],
      "text/plain": [
       "       record_id  day  year     Avg1     Avg2\n",
       "0         474376    1  1853  25.0000  35.0000\n",
       "1         474377    1  1853  65.0000  45.0000\n",
       "2         474378    1  1853  55.0000  25.0000\n",
       "3         474379    1  1853  34.0000  65.0000\n",
       "4         474380    1  1853  24.0000  26.0000\n",
       "...          ...  ...   ...      ...      ...\n",
       "48465    8258726    1  2013  55.0544  32.4896\n",
       "48466    8258727    1  2013  61.1672  32.3330\n",
       "48467    8258728    1  2013  66.7706  32.5706\n",
       "48468    8258729    1  2013  64.5656  32.4842\n",
       "48469    8258730    1  2013  25.0000  25.0000\n",
       "\n",
       "[48470 rows x 5 columns]"
      ]
     },
     "execution_count": 30,
     "metadata": {},
     "output_type": "execute_result"
    }
   ],
   "source": [
    "df1"
   ]
  },
  {
   "cell_type": "code",
   "execution_count": 31,
   "id": "7b6d401f",
   "metadata": {},
   "outputs": [],
   "source": [
    "del df1[\"day\"]"
   ]
  },
  {
   "cell_type": "code",
   "execution_count": 32,
   "id": "f2ef9e5a",
   "metadata": {},
   "outputs": [
    {
     "data": {
      "text/html": [
       "<div>\n",
       "<style scoped>\n",
       "    .dataframe tbody tr th:only-of-type {\n",
       "        vertical-align: middle;\n",
       "    }\n",
       "\n",
       "    .dataframe tbody tr th {\n",
       "        vertical-align: top;\n",
       "    }\n",
       "\n",
       "    .dataframe thead th {\n",
       "        text-align: right;\n",
       "    }\n",
       "</style>\n",
       "<table border=\"1\" class=\"dataframe\">\n",
       "  <thead>\n",
       "    <tr style=\"text-align: right;\">\n",
       "      <th></th>\n",
       "      <th>record_id</th>\n",
       "      <th>year</th>\n",
       "      <th>Avg1</th>\n",
       "      <th>Avg2</th>\n",
       "    </tr>\n",
       "  </thead>\n",
       "  <tbody>\n",
       "    <tr>\n",
       "      <th>0</th>\n",
       "      <td>474376</td>\n",
       "      <td>1853</td>\n",
       "      <td>25.0000</td>\n",
       "      <td>35.0000</td>\n",
       "    </tr>\n",
       "    <tr>\n",
       "      <th>1</th>\n",
       "      <td>474377</td>\n",
       "      <td>1853</td>\n",
       "      <td>65.0000</td>\n",
       "      <td>45.0000</td>\n",
       "    </tr>\n",
       "    <tr>\n",
       "      <th>2</th>\n",
       "      <td>474378</td>\n",
       "      <td>1853</td>\n",
       "      <td>55.0000</td>\n",
       "      <td>25.0000</td>\n",
       "    </tr>\n",
       "    <tr>\n",
       "      <th>3</th>\n",
       "      <td>474379</td>\n",
       "      <td>1853</td>\n",
       "      <td>34.0000</td>\n",
       "      <td>65.0000</td>\n",
       "    </tr>\n",
       "    <tr>\n",
       "      <th>4</th>\n",
       "      <td>474380</td>\n",
       "      <td>1853</td>\n",
       "      <td>24.0000</td>\n",
       "      <td>26.0000</td>\n",
       "    </tr>\n",
       "    <tr>\n",
       "      <th>...</th>\n",
       "      <td>...</td>\n",
       "      <td>...</td>\n",
       "      <td>...</td>\n",
       "      <td>...</td>\n",
       "    </tr>\n",
       "    <tr>\n",
       "      <th>48465</th>\n",
       "      <td>8258726</td>\n",
       "      <td>2013</td>\n",
       "      <td>55.0544</td>\n",
       "      <td>32.4896</td>\n",
       "    </tr>\n",
       "    <tr>\n",
       "      <th>48466</th>\n",
       "      <td>8258727</td>\n",
       "      <td>2013</td>\n",
       "      <td>61.1672</td>\n",
       "      <td>32.3330</td>\n",
       "    </tr>\n",
       "    <tr>\n",
       "      <th>48467</th>\n",
       "      <td>8258728</td>\n",
       "      <td>2013</td>\n",
       "      <td>66.7706</td>\n",
       "      <td>32.5706</td>\n",
       "    </tr>\n",
       "    <tr>\n",
       "      <th>48468</th>\n",
       "      <td>8258729</td>\n",
       "      <td>2013</td>\n",
       "      <td>64.5656</td>\n",
       "      <td>32.4842</td>\n",
       "    </tr>\n",
       "    <tr>\n",
       "      <th>48469</th>\n",
       "      <td>8258730</td>\n",
       "      <td>2013</td>\n",
       "      <td>25.0000</td>\n",
       "      <td>25.0000</td>\n",
       "    </tr>\n",
       "  </tbody>\n",
       "</table>\n",
       "<p>48470 rows × 4 columns</p>\n",
       "</div>"
      ],
      "text/plain": [
       "       record_id  year     Avg1     Avg2\n",
       "0         474376  1853  25.0000  35.0000\n",
       "1         474377  1853  65.0000  45.0000\n",
       "2         474378  1853  55.0000  25.0000\n",
       "3         474379  1853  34.0000  65.0000\n",
       "4         474380  1853  24.0000  26.0000\n",
       "...          ...   ...      ...      ...\n",
       "48465    8258726  2013  55.0544  32.4896\n",
       "48466    8258727  2013  61.1672  32.3330\n",
       "48467    8258728  2013  66.7706  32.5706\n",
       "48468    8258729  2013  64.5656  32.4842\n",
       "48469    8258730  2013  25.0000  25.0000\n",
       "\n",
       "[48470 rows x 4 columns]"
      ]
     },
     "execution_count": 32,
     "metadata": {},
     "output_type": "execute_result"
    }
   ],
   "source": [
    "df1"
   ]
  },
  {
   "cell_type": "code",
   "execution_count": 33,
   "id": "946a9439",
   "metadata": {},
   "outputs": [
    {
     "data": {
      "image/png": "[encoded data removed]",
      "text/plain": [
       "<Figure size 1000x700 with 1 Axes>"
      ]
     },
     "metadata": {},
     "output_type": "display_data"
    }
   ],
   "source": [
    "import scipy.cluster.hierarchy as shc\n",
    "plt.figure(figsize=(10, 7))  \n",
    "plt.title(\"HCA Dendrograms\")  \n",
    "dend = shc.dendrogram(shc.linkage(data_scaled, method='ward'))"
   ]
  },
  {
   "cell_type": "code",
   "execution_count": 34,
   "id": "a60e5370",
   "metadata": {},
   "outputs": [
    {
     "data": {
      "text/plain": [
       "<matplotlib.lines.Line2D at 0x13e0218c550>"
      ]
     },
     "execution_count": 34,
     "metadata": {},
     "output_type": "execute_result"
    },
    {
     "data": {
      "image/png": "[encoded data removed]",
      "text/plain": [
       "<Figure size 1000x700 with 1 Axes>"
      ]
     },
     "metadata": {},
     "output_type": "display_data"
    }
   ],
   "source": [
    "plt.figure(figsize=(10, 7))  \n",
    "plt.title(\"Dendrograms\")  \n",
    "dend = shc.dendrogram(shc.linkage(data_scaled, method='ward'))\n",
    "plt.axhline(y=6, color='r', linestyle='--')"
   ]
  },
  {
   "cell_type": "code",
   "execution_count": 35,
   "id": "2a7a4583",
   "metadata": {},
   "outputs": [
    {
     "data": {
      "text/plain": [
       "array([1, 1, 1, ..., 0, 0, 0], dtype=int64)"
      ]
     },
     "execution_count": 35,
     "metadata": {},
     "output_type": "execute_result"
    }
   ],
   "source": [
    "from sklearn.cluster import AgglomerativeClustering\n",
    "cluster = AgglomerativeClustering(n_clusters=2, affinity='euclidean', linkage='ward')  \n",
    "cluster.fit_predict(data_scaled)"
   ]
  },
  {
   "cell_type": "code",
   "execution_count": 36,
   "id": "27abb27c",
   "metadata": {},
   "outputs": [
    {
     "data": {
      "text/plain": [
       "<matplotlib.collections.PathCollection at 0x13dd880c070>"
      ]
     },
     "execution_count": 36,
     "metadata": {},
     "output_type": "execute_result"
    },
    {
     "data": {
      "image/png": "[encoded data removed]",
      "text/plain": [
       "<Figure size 1000x700 with 1 Axes>"
      ]
     },
     "metadata": {},
     "output_type": "display_data"
    }
   ],
   "source": [
    "plt.figure(figsize=(10, 7))  \n",
    "plt.scatter(data_scaled['Avg1'], data_scaled['Avg2'], c=cluster.labels_)"
   ]
  },
  {
   "cell_type": "code",
   "execution_count": null,
   "id": "f3b371a5",
   "metadata": {},
   "outputs": [],
   "source": []
  }
 ],
 "metadata": {
  "kernelspec": {
   "display_name": "Python 3 (ipykernel)",
   "language": "python",
   "name": "python3"
  },
  "language_info": {
   "codemirror_mode": {
    "name": "ipython",
    "version": 3
   },
   "file_extension": ".py",
   "mimetype": "text/x-python",
   "name": "python",
   "nbconvert_exporter": "python",
   "pygments_lexer": "ipython3",
   "version": "3.9.13"
  }
 },
 "nbformat": 4,
 "nbformat_minor": 5
}
